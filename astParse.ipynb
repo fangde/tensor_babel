{
 "cells": [
  {
   "cell_type": "code",
   "execution_count": 2,
   "metadata": {},
   "outputs": [],
   "source": [
    "import ast\n",
    "\n",
    "\n"
   ]
  },
  {
   "cell_type": "code",
   "execution_count": 37,
   "metadata": {},
   "outputs": [],
   "source": [
    "code=\"\"\"\n",
    "def Hello(name):\n",
    "    print \"hello\"\n",
    "    print name\n",
    "\n",
    "\n",
    "Hello('what')\n",
    "\"\"\""
   ]
  },
  {
   "cell_type": "code",
   "execution_count": 12,
   "metadata": {},
   "outputs": [],
   "source": []
  },
  {
   "cell_type": "code",
   "execution_count": 67,
   "metadata": {},
   "outputs": [
    {
     "name": "stdout",
     "output_type": "stream",
     "text": [
      "call def\n",
      "func <_ast.Name object at 0x7f2b2c3f2190>\n",
      "args [<_ast.Str object at 0x7f2b2c3f21d0>]\n",
      "keywords []\n",
      "starargs None\n",
      "kwargs None\n",
      "func\n",
      "Hello\n",
      "<_ast.Load object at 0x7f2b39163250>\n"
     ]
    }
   ],
   "source": [
    "tree=ast.parse(code)\n",
    "for node in ast.walk(tree):\n",
    "   \n",
    "    if isinstance(node,ast.Call):\n",
    "        print 'call def'\n",
    "        for k,v in ast.iter_fields(node):\n",
    "            print k,v\n",
    "        \n",
    "        print 'func'\n",
    "        print node.func.id\n",
    "        print node.func.ctx\n",
    "        break\n",
    "            "
   ]
  },
  {
   "cell_type": "code",
   "execution_count": 58,
   "metadata": {},
   "outputs": [
    {
     "data": {
      "text/plain": [
       "\"Module(body=[FunctionDef(name='Hello', args=arguments(args=[Name(id='name', ctx=Param())], vararg=None, kwarg=None, defaults=[]), body=[Print(dest=None, values=[Str(s='hello')], nl=True), Print(dest=None, values=[Name(id='name', ctx=Load())], nl=True)], decorator_list=[]), Expr(value=Call(func=Name(id='Hello', ctx=Load()), args=[Str(s='what')], keywords=[], starargs=None, kwargs=None))])\""
      ]
     },
     "execution_count": 58,
     "metadata": {},
     "output_type": "execute_result"
    }
   ],
   "source": [
    "ast.dump(tree)\n",
    "\n"
   ]
  },
  {
   "cell_type": "code",
   "execution_count": null,
   "metadata": {},
   "outputs": [],
   "source": [
    "import astunparse\n",
    "\n",
    "\n",
    "print astunparse.unparse(tree)"
   ]
  },
  {
   "cell_type": "code",
   "execution_count": 62,
   "metadata": {},
   "outputs": [
    {
     "name": "stdout",
     "output_type": "stream",
     "text": [
      "Module(body=[Expr(value=Call(func=Call(func=Name(id='Hello', ctx=Load()), args=[], keywords=[], starargs=None, kwargs=None), args=[Str(s='what')], keywords=[], starargs=None, kwargs=None))])\n",
      "Module(body=[Expr(value=Call(func=Name(id='Hello', ctx=Load()), args=[], keywords=[], starargs=None, kwargs=None))])\n",
      "\n",
      "\n",
      "def Hello(name):\n",
      "    print 'hello'\n",
      "    print name\n",
      "Hello()('what')\n",
      "\n"
     ]
    }
   ],
   "source": [
    "tre2=ast.parse(\"Hello()('what')\")\n",
    "\n",
    "print ast.dump(tre2)\n",
    "\n",
    "tre1=ast.parse(\"Hello()\")\n",
    "print ast.dump(tre1)\n",
    "\n",
    "\n",
    "tree.body[1]=tre2\n",
    "print astunparse.unparse(tree)"
   ]
  },
  {
   "cell_type": "code",
   "execution_count": 85,
   "metadata": {},
   "outputs": [
    {
     "name": "stdout",
     "output_type": "stream",
     "text": [
      "<_ast.Call object at 0x7f2b2c413690>\n",
      "\n",
      "\n",
      "def Hello(name):\n",
      "    print 'hello'\n",
      "    print name\n",
      "Hello('what')\n",
      "\n"
     ]
    }
   ],
   "source": [
    "tree=ast.parse(code)\n",
    "class FunctionCallRename(ast.NodeVisitor):\n",
    "    def visit_Call(self,node):\n",
    "        print node\n",
    "        \n",
    "\n",
    " \n",
    "\n",
    "FunctionCallRename().visit(tree)\n",
    "\n",
    "print astunparse.unparse(tree)"
   ]
  }
 ],
 "metadata": {
  "kernelspec": {
   "display_name": "Python 2",
   "language": "python",
   "name": "python2"
  },
  "language_info": {
   "codemirror_mode": {
    "name": "ipython",
    "version": 2
   },
   "file_extension": ".py",
   "mimetype": "text/x-python",
   "name": "python",
   "nbconvert_exporter": "python",
   "pygments_lexer": "ipython2",
   "version": "2.7.14"
  }
 },
 "nbformat": 4,
 "nbformat_minor": 2
}
